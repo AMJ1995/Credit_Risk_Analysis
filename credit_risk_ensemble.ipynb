{
  "cells": [
    {
      "cell_type": "code",
      "execution_count": 1,
      "metadata": {
        "id": "89GOPwwfYwy-"
      },
      "outputs": [],
      "source": [
        "import warnings\n",
        "warnings.filterwarnings('ignore')"
      ]
    },
    {
      "cell_type": "code",
      "execution_count": 2,
      "metadata": {
        "id": "TiAhRt5oYwzB"
      },
      "outputs": [],
      "source": [
        "import numpy as np\n",
        "import pandas as pd\n",
        "from pathlib import Path\n",
        "from collections import Counter"
      ]
    },
    {
      "cell_type": "code",
      "execution_count": 3,
      "metadata": {
        "id": "nSWvRhkpYwzC"
      },
      "outputs": [],
      "source": [
        "from sklearn.metrics import balanced_accuracy_score\n",
        "from sklearn.metrics import confusion_matrix\n",
        "from imblearn.metrics import classification_report_imbalanced"
      ]
    },
    {
      "cell_type": "markdown",
      "metadata": {
        "id": "diqLl6uHYwzC"
      },
      "source": [
        "# Read the CSV and Perform Basic Data Cleaning"
      ]
    },
    {
      "cell_type": "code",
      "execution_count": 4,
      "metadata": {
        "id": "OruQzRHEYwzE"
      },
      "outputs": [],
      "source": [
        "# https://help.lendingclub.com/hc/en-us/articles/215488038-What-do-the-different-Note-statuses-mean-\n",
        "\n",
        "columns = [\n",
        "    \"loan_amnt\", \"int_rate\", \"installment\", \"home_ownership\",\n",
        "    \"annual_inc\", \"verification_status\", \"issue_d\", \"loan_status\",\n",
        "    \"pymnt_plan\", \"dti\", \"delinq_2yrs\", \"inq_last_6mths\",\n",
        "    \"open_acc\", \"pub_rec\", \"revol_bal\", \"total_acc\",\n",
        "    \"initial_list_status\", \"out_prncp\", \"out_prncp_inv\", \"total_pymnt\",\n",
        "    \"total_pymnt_inv\", \"total_rec_prncp\", \"total_rec_int\", \"total_rec_late_fee\",\n",
        "    \"recoveries\", \"collection_recovery_fee\", \"last_pymnt_amnt\", \"next_pymnt_d\",\n",
        "    \"collections_12_mths_ex_med\", \"policy_code\", \"application_type\", \"acc_now_delinq\",\n",
        "    \"tot_coll_amt\", \"tot_cur_bal\", \"open_acc_6m\", \"open_act_il\",\n",
        "    \"open_il_12m\", \"open_il_24m\", \"mths_since_rcnt_il\", \"total_bal_il\",\n",
        "    \"il_util\", \"open_rv_12m\", \"open_rv_24m\", \"max_bal_bc\",\n",
        "    \"all_util\", \"total_rev_hi_lim\", \"inq_fi\", \"total_cu_tl\",\n",
        "    \"inq_last_12m\", \"acc_open_past_24mths\", \"avg_cur_bal\", \"bc_open_to_buy\",\n",
        "    \"bc_util\", \"chargeoff_within_12_mths\", \"delinq_amnt\", \"mo_sin_old_il_acct\",\n",
        "    \"mo_sin_old_rev_tl_op\", \"mo_sin_rcnt_rev_tl_op\", \"mo_sin_rcnt_tl\", \"mort_acc\",\n",
        "    \"mths_since_recent_bc\", \"mths_since_recent_inq\", \"num_accts_ever_120_pd\", \"num_actv_bc_tl\",\n",
        "    \"num_actv_rev_tl\", \"num_bc_sats\", \"num_bc_tl\", \"num_il_tl\",\n",
        "    \"num_op_rev_tl\", \"num_rev_accts\", \"num_rev_tl_bal_gt_0\",\n",
        "    \"num_sats\", \"num_tl_120dpd_2m\", \"num_tl_30dpd\", \"num_tl_90g_dpd_24m\",\n",
        "    \"num_tl_op_past_12m\", \"pct_tl_nvr_dlq\", \"percent_bc_gt_75\", \"pub_rec_bankruptcies\",\n",
        "    \"tax_liens\", \"tot_hi_cred_lim\", \"total_bal_ex_mort\", \"total_bc_limit\",\n",
        "    \"total_il_high_credit_limit\", \"hardship_flag\", \"debt_settlement_flag\"\n",
        "]\n",
        "\n",
        "target = [\"loan_status\"]"
      ]
    },
    {
      "cell_type": "code",
      "execution_count": 5,
      "metadata": {
        "colab": {
          "base_uri": "https://localhost:8080/",
          "height": 386
        },
        "id": "_R0kRDyaYwzF",
        "outputId": "fdf9a481-1a40-4c2a-8082-644a02edbad6"
      },
      "outputs": [
        {
          "output_type": "execute_result",
          "data": {
            "text/plain": [
              "   loan_amnt  int_rate  installment home_ownership  annual_inc  \\\n",
              "0    10500.0    0.1719       375.35           RENT     66000.0   \n",
              "1    25000.0    0.2000       929.09       MORTGAGE    105000.0   \n",
              "2    20000.0    0.2000       529.88       MORTGAGE     56000.0   \n",
              "3    10000.0    0.1640       353.55           RENT     92000.0   \n",
              "4    22000.0    0.1474       520.39       MORTGAGE     52000.0   \n",
              "\n",
              "  verification_status   issue_d loan_status pymnt_plan    dti  ...  \\\n",
              "0     Source Verified  Mar-2019    low_risk          n  27.24  ...   \n",
              "1            Verified  Mar-2019    low_risk          n  20.23  ...   \n",
              "2            Verified  Mar-2019    low_risk          n  24.26  ...   \n",
              "3            Verified  Mar-2019    low_risk          n  31.44  ...   \n",
              "4        Not Verified  Mar-2019    low_risk          n  18.76  ...   \n",
              "\n",
              "   pct_tl_nvr_dlq  percent_bc_gt_75  pub_rec_bankruptcies  tax_liens  \\\n",
              "0            85.7             100.0                   0.0        0.0   \n",
              "1            91.2              50.0                   1.0        0.0   \n",
              "2            66.7              50.0                   0.0        0.0   \n",
              "3           100.0              50.0                   1.0        0.0   \n",
              "4           100.0               0.0                   0.0        0.0   \n",
              "\n",
              "   tot_hi_cred_lim  total_bal_ex_mort total_bc_limit  \\\n",
              "0          65687.0            38199.0         2000.0   \n",
              "1         271427.0            60641.0        41200.0   \n",
              "2          60644.0            45684.0         7500.0   \n",
              "3          99506.0            68784.0        19700.0   \n",
              "4         219750.0            25919.0        27600.0   \n",
              "\n",
              "   total_il_high_credit_limit  hardship_flag  debt_settlement_flag  \n",
              "0                     61987.0              N                     N  \n",
              "1                     49197.0              N                     N  \n",
              "2                     43144.0              N                     N  \n",
              "3                     76506.0              N                     N  \n",
              "4                     20000.0              N                     N  \n",
              "\n",
              "[5 rows x 86 columns]"
            ],
            "text/html": [
              "\n",
              "  <div id=\"df-e7d79cf9-aba7-4009-a488-b98a4d294782\">\n",
              "    <div class=\"colab-df-container\">\n",
              "      <div>\n",
              "<style scoped>\n",
              "    .dataframe tbody tr th:only-of-type {\n",
              "        vertical-align: middle;\n",
              "    }\n",
              "\n",
              "    .dataframe tbody tr th {\n",
              "        vertical-align: top;\n",
              "    }\n",
              "\n",
              "    .dataframe thead th {\n",
              "        text-align: right;\n",
              "    }\n",
              "</style>\n",
              "<table border=\"1\" class=\"dataframe\">\n",
              "  <thead>\n",
              "    <tr style=\"text-align: right;\">\n",
              "      <th></th>\n",
              "      <th>loan_amnt</th>\n",
              "      <th>int_rate</th>\n",
              "      <th>installment</th>\n",
              "      <th>home_ownership</th>\n",
              "      <th>annual_inc</th>\n",
              "      <th>verification_status</th>\n",
              "      <th>issue_d</th>\n",
              "      <th>loan_status</th>\n",
              "      <th>pymnt_plan</th>\n",
              "      <th>dti</th>\n",
              "      <th>...</th>\n",
              "      <th>pct_tl_nvr_dlq</th>\n",
              "      <th>percent_bc_gt_75</th>\n",
              "      <th>pub_rec_bankruptcies</th>\n",
              "      <th>tax_liens</th>\n",
              "      <th>tot_hi_cred_lim</th>\n",
              "      <th>total_bal_ex_mort</th>\n",
              "      <th>total_bc_limit</th>\n",
              "      <th>total_il_high_credit_limit</th>\n",
              "      <th>hardship_flag</th>\n",
              "      <th>debt_settlement_flag</th>\n",
              "    </tr>\n",
              "  </thead>\n",
              "  <tbody>\n",
              "    <tr>\n",
              "      <th>0</th>\n",
              "      <td>10500.0</td>\n",
              "      <td>0.1719</td>\n",
              "      <td>375.35</td>\n",
              "      <td>RENT</td>\n",
              "      <td>66000.0</td>\n",
              "      <td>Source Verified</td>\n",
              "      <td>Mar-2019</td>\n",
              "      <td>low_risk</td>\n",
              "      <td>n</td>\n",
              "      <td>27.24</td>\n",
              "      <td>...</td>\n",
              "      <td>85.7</td>\n",
              "      <td>100.0</td>\n",
              "      <td>0.0</td>\n",
              "      <td>0.0</td>\n",
              "      <td>65687.0</td>\n",
              "      <td>38199.0</td>\n",
              "      <td>2000.0</td>\n",
              "      <td>61987.0</td>\n",
              "      <td>N</td>\n",
              "      <td>N</td>\n",
              "    </tr>\n",
              "    <tr>\n",
              "      <th>1</th>\n",
              "      <td>25000.0</td>\n",
              "      <td>0.2000</td>\n",
              "      <td>929.09</td>\n",
              "      <td>MORTGAGE</td>\n",
              "      <td>105000.0</td>\n",
              "      <td>Verified</td>\n",
              "      <td>Mar-2019</td>\n",
              "      <td>low_risk</td>\n",
              "      <td>n</td>\n",
              "      <td>20.23</td>\n",
              "      <td>...</td>\n",
              "      <td>91.2</td>\n",
              "      <td>50.0</td>\n",
              "      <td>1.0</td>\n",
              "      <td>0.0</td>\n",
              "      <td>271427.0</td>\n",
              "      <td>60641.0</td>\n",
              "      <td>41200.0</td>\n",
              "      <td>49197.0</td>\n",
              "      <td>N</td>\n",
              "      <td>N</td>\n",
              "    </tr>\n",
              "    <tr>\n",
              "      <th>2</th>\n",
              "      <td>20000.0</td>\n",
              "      <td>0.2000</td>\n",
              "      <td>529.88</td>\n",
              "      <td>MORTGAGE</td>\n",
              "      <td>56000.0</td>\n",
              "      <td>Verified</td>\n",
              "      <td>Mar-2019</td>\n",
              "      <td>low_risk</td>\n",
              "      <td>n</td>\n",
              "      <td>24.26</td>\n",
              "      <td>...</td>\n",
              "      <td>66.7</td>\n",
              "      <td>50.0</td>\n",
              "      <td>0.0</td>\n",
              "      <td>0.0</td>\n",
              "      <td>60644.0</td>\n",
              "      <td>45684.0</td>\n",
              "      <td>7500.0</td>\n",
              "      <td>43144.0</td>\n",
              "      <td>N</td>\n",
              "      <td>N</td>\n",
              "    </tr>\n",
              "    <tr>\n",
              "      <th>3</th>\n",
              "      <td>10000.0</td>\n",
              "      <td>0.1640</td>\n",
              "      <td>353.55</td>\n",
              "      <td>RENT</td>\n",
              "      <td>92000.0</td>\n",
              "      <td>Verified</td>\n",
              "      <td>Mar-2019</td>\n",
              "      <td>low_risk</td>\n",
              "      <td>n</td>\n",
              "      <td>31.44</td>\n",
              "      <td>...</td>\n",
              "      <td>100.0</td>\n",
              "      <td>50.0</td>\n",
              "      <td>1.0</td>\n",
              "      <td>0.0</td>\n",
              "      <td>99506.0</td>\n",
              "      <td>68784.0</td>\n",
              "      <td>19700.0</td>\n",
              "      <td>76506.0</td>\n",
              "      <td>N</td>\n",
              "      <td>N</td>\n",
              "    </tr>\n",
              "    <tr>\n",
              "      <th>4</th>\n",
              "      <td>22000.0</td>\n",
              "      <td>0.1474</td>\n",
              "      <td>520.39</td>\n",
              "      <td>MORTGAGE</td>\n",
              "      <td>52000.0</td>\n",
              "      <td>Not Verified</td>\n",
              "      <td>Mar-2019</td>\n",
              "      <td>low_risk</td>\n",
              "      <td>n</td>\n",
              "      <td>18.76</td>\n",
              "      <td>...</td>\n",
              "      <td>100.0</td>\n",
              "      <td>0.0</td>\n",
              "      <td>0.0</td>\n",
              "      <td>0.0</td>\n",
              "      <td>219750.0</td>\n",
              "      <td>25919.0</td>\n",
              "      <td>27600.0</td>\n",
              "      <td>20000.0</td>\n",
              "      <td>N</td>\n",
              "      <td>N</td>\n",
              "    </tr>\n",
              "  </tbody>\n",
              "</table>\n",
              "<p>5 rows × 86 columns</p>\n",
              "</div>\n",
              "      <button class=\"colab-df-convert\" onclick=\"convertToInteractive('df-e7d79cf9-aba7-4009-a488-b98a4d294782')\"\n",
              "              title=\"Convert this dataframe to an interactive table.\"\n",
              "              style=\"display:none;\">\n",
              "        \n",
              "  <svg xmlns=\"http://www.w3.org/2000/svg\" height=\"24px\"viewBox=\"0 0 24 24\"\n",
              "       width=\"24px\">\n",
              "    <path d=\"M0 0h24v24H0V0z\" fill=\"none\"/>\n",
              "    <path d=\"M18.56 5.44l.94 2.06.94-2.06 2.06-.94-2.06-.94-.94-2.06-.94 2.06-2.06.94zm-11 1L8.5 8.5l.94-2.06 2.06-.94-2.06-.94L8.5 2.5l-.94 2.06-2.06.94zm10 10l.94 2.06.94-2.06 2.06-.94-2.06-.94-.94-2.06-.94 2.06-2.06.94z\"/><path d=\"M17.41 7.96l-1.37-1.37c-.4-.4-.92-.59-1.43-.59-.52 0-1.04.2-1.43.59L10.3 9.45l-7.72 7.72c-.78.78-.78 2.05 0 2.83L4 21.41c.39.39.9.59 1.41.59.51 0 1.02-.2 1.41-.59l7.78-7.78 2.81-2.81c.8-.78.8-2.07 0-2.86zM5.41 20L4 18.59l7.72-7.72 1.47 1.35L5.41 20z\"/>\n",
              "  </svg>\n",
              "      </button>\n",
              "      \n",
              "  <style>\n",
              "    .colab-df-container {\n",
              "      display:flex;\n",
              "      flex-wrap:wrap;\n",
              "      gap: 12px;\n",
              "    }\n",
              "\n",
              "    .colab-df-convert {\n",
              "      background-color: #E8F0FE;\n",
              "      border: none;\n",
              "      border-radius: 50%;\n",
              "      cursor: pointer;\n",
              "      display: none;\n",
              "      fill: #1967D2;\n",
              "      height: 32px;\n",
              "      padding: 0 0 0 0;\n",
              "      width: 32px;\n",
              "    }\n",
              "\n",
              "    .colab-df-convert:hover {\n",
              "      background-color: #E2EBFA;\n",
              "      box-shadow: 0px 1px 2px rgba(60, 64, 67, 0.3), 0px 1px 3px 1px rgba(60, 64, 67, 0.15);\n",
              "      fill: #174EA6;\n",
              "    }\n",
              "\n",
              "    [theme=dark] .colab-df-convert {\n",
              "      background-color: #3B4455;\n",
              "      fill: #D2E3FC;\n",
              "    }\n",
              "\n",
              "    [theme=dark] .colab-df-convert:hover {\n",
              "      background-color: #434B5C;\n",
              "      box-shadow: 0px 1px 3px 1px rgba(0, 0, 0, 0.15);\n",
              "      filter: drop-shadow(0px 1px 2px rgba(0, 0, 0, 0.3));\n",
              "      fill: #FFFFFF;\n",
              "    }\n",
              "  </style>\n",
              "\n",
              "      <script>\n",
              "        const buttonEl =\n",
              "          document.querySelector('#df-e7d79cf9-aba7-4009-a488-b98a4d294782 button.colab-df-convert');\n",
              "        buttonEl.style.display =\n",
              "          google.colab.kernel.accessAllowed ? 'block' : 'none';\n",
              "\n",
              "        async function convertToInteractive(key) {\n",
              "          const element = document.querySelector('#df-e7d79cf9-aba7-4009-a488-b98a4d294782');\n",
              "          const dataTable =\n",
              "            await google.colab.kernel.invokeFunction('convertToInteractive',\n",
              "                                                     [key], {});\n",
              "          if (!dataTable) return;\n",
              "\n",
              "          const docLinkHtml = 'Like what you see? Visit the ' +\n",
              "            '<a target=\"_blank\" href=https://colab.research.google.com/notebooks/data_table.ipynb>data table notebook</a>'\n",
              "            + ' to learn more about interactive tables.';\n",
              "          element.innerHTML = '';\n",
              "          dataTable['output_type'] = 'display_data';\n",
              "          await google.colab.output.renderOutput(dataTable, element);\n",
              "          const docLink = document.createElement('div');\n",
              "          docLink.innerHTML = docLinkHtml;\n",
              "          element.appendChild(docLink);\n",
              "        }\n",
              "      </script>\n",
              "    </div>\n",
              "  </div>\n",
              "  "
            ]
          },
          "metadata": {},
          "execution_count": 5
        }
      ],
      "source": [
        "# Load the data\n",
        "file_path = Path('/LoanStats_2019Q1.csv')\n",
        "df = pd.read_csv(file_path, skiprows=1)[:-2]\n",
        "df = df.loc[:, columns].copy()\n",
        "\n",
        "# Drop the null columns where all values are null\n",
        "df = df.dropna(axis='columns', how='all')\n",
        "\n",
        "# Drop the null rows\n",
        "df = df.dropna()\n",
        "\n",
        "# Remove the `Issued` loan status\n",
        "issued_mask = df['loan_status'] != 'Issued'\n",
        "df = df.loc[issued_mask]\n",
        "\n",
        "# convert interest rate to numerical\n",
        "df['int_rate'] = df['int_rate'].str.replace('%', '')\n",
        "df['int_rate'] = df['int_rate'].astype('float') / 100\n",
        "\n",
        "\n",
        "# Convert the target column values to low_risk and high_risk based on their values\n",
        "x = {'Current': 'low_risk'}   \n",
        "df = df.replace(x)\n",
        "\n",
        "x = dict.fromkeys(['Late (31-120 days)', 'Late (16-30 days)', 'Default', 'In Grace Period'], 'high_risk')    \n",
        "df = df.replace(x)\n",
        "\n",
        "df.reset_index(inplace=True, drop=True)\n",
        "\n",
        "df.head()"
      ]
    },
    {
      "cell_type": "markdown",
      "metadata": {
        "id": "MomO-su_YwzH"
      },
      "source": [
        "# Split the Data into Training and Testing"
      ]
    },
    {
      "cell_type": "code",
      "execution_count": 6,
      "metadata": {
        "id": "y84MQ2UWYwzH"
      },
      "outputs": [],
      "source": [
        "# Create our features\n",
        "X = df.drop(columns=\"loan_status\")\n",
        "X = pd.get_dummies(X)\n",
        "\n",
        "# Create our target\n",
        "y = df.loc[:,target].copy()"
      ]
    },
    {
      "cell_type": "code",
      "execution_count": 7,
      "metadata": {
        "colab": {
          "base_uri": "https://localhost:8080/",
          "height": 411
        },
        "id": "FlESG8YoYwzI",
        "outputId": "4c95f1b9-1fc4-438a-ad5a-4b8cfa59c027"
      },
      "outputs": [
        {
          "output_type": "execute_result",
          "data": {
            "text/plain": [
              "          loan_amnt      int_rate   installment    annual_inc           dti  \\\n",
              "count  68817.000000  68817.000000  68817.000000  6.881700e+04  68817.000000   \n",
              "mean   16677.594562      0.127718    480.652863  8.821371e+04     21.778153   \n",
              "std    10277.348590      0.048130    288.062432  1.155800e+05     20.199244   \n",
              "min     1000.000000      0.060000     30.890000  4.000000e+01      0.000000   \n",
              "25%     9000.000000      0.088100    265.730000  5.000000e+04     13.890000   \n",
              "50%    15000.000000      0.118000    404.560000  7.300000e+04     19.760000   \n",
              "75%    24000.000000      0.155700    648.100000  1.040000e+05     26.660000   \n",
              "max    40000.000000      0.308400   1676.230000  8.797500e+06    999.000000   \n",
              "\n",
              "        delinq_2yrs  inq_last_6mths      open_acc       pub_rec  \\\n",
              "count  68817.000000    68817.000000  68817.000000  68817.000000   \n",
              "mean       0.217766        0.497697     12.587340      0.126030   \n",
              "std        0.718367        0.758122      6.022869      0.336797   \n",
              "min        0.000000        0.000000      2.000000      0.000000   \n",
              "25%        0.000000        0.000000      8.000000      0.000000   \n",
              "50%        0.000000        0.000000     11.000000      0.000000   \n",
              "75%        0.000000        1.000000     16.000000      0.000000   \n",
              "max       18.000000        5.000000     72.000000      4.000000   \n",
              "\n",
              "           revol_bal  ...  issue_d_Mar-2019  pymnt_plan_n  \\\n",
              "count   68817.000000  ...      68817.000000       68817.0   \n",
              "mean    17604.142828  ...          0.177238           1.0   \n",
              "std     21835.880400  ...          0.381873           0.0   \n",
              "min         0.000000  ...          0.000000           1.0   \n",
              "25%      6293.000000  ...          0.000000           1.0   \n",
              "50%     12068.000000  ...          0.000000           1.0   \n",
              "75%     21735.000000  ...          0.000000           1.0   \n",
              "max    587191.000000  ...          1.000000           1.0   \n",
              "\n",
              "       initial_list_status_f  initial_list_status_w  next_pymnt_d_Apr-2019  \\\n",
              "count           68817.000000           68817.000000           68817.000000   \n",
              "mean                0.123879               0.876121               0.383161   \n",
              "std                 0.329446               0.329446               0.486161   \n",
              "min                 0.000000               0.000000               0.000000   \n",
              "25%                 0.000000               1.000000               0.000000   \n",
              "50%                 0.000000               1.000000               0.000000   \n",
              "75%                 0.000000               1.000000               1.000000   \n",
              "max                 1.000000               1.000000               1.000000   \n",
              "\n",
              "       next_pymnt_d_May-2019  application_type_Individual  \\\n",
              "count           68817.000000                 68817.000000   \n",
              "mean                0.616839                     0.860340   \n",
              "std                 0.486161                     0.346637   \n",
              "min                 0.000000                     0.000000   \n",
              "25%                 0.000000                     1.000000   \n",
              "50%                 1.000000                     1.000000   \n",
              "75%                 1.000000                     1.000000   \n",
              "max                 1.000000                     1.000000   \n",
              "\n",
              "       application_type_Joint App  hardship_flag_N  debt_settlement_flag_N  \n",
              "count                68817.000000          68817.0                 68817.0  \n",
              "mean                     0.139660              1.0                     1.0  \n",
              "std                      0.346637              0.0                     0.0  \n",
              "min                      0.000000              1.0                     1.0  \n",
              "25%                      0.000000              1.0                     1.0  \n",
              "50%                      0.000000              1.0                     1.0  \n",
              "75%                      0.000000              1.0                     1.0  \n",
              "max                      1.000000              1.0                     1.0  \n",
              "\n",
              "[8 rows x 95 columns]"
            ],
            "text/html": [
              "\n",
              "  <div id=\"df-c3d11b7e-2547-4784-bc98-242f80912eb5\">\n",
              "    <div class=\"colab-df-container\">\n",
              "      <div>\n",
              "<style scoped>\n",
              "    .dataframe tbody tr th:only-of-type {\n",
              "        vertical-align: middle;\n",
              "    }\n",
              "\n",
              "    .dataframe tbody tr th {\n",
              "        vertical-align: top;\n",
              "    }\n",
              "\n",
              "    .dataframe thead th {\n",
              "        text-align: right;\n",
              "    }\n",
              "</style>\n",
              "<table border=\"1\" class=\"dataframe\">\n",
              "  <thead>\n",
              "    <tr style=\"text-align: right;\">\n",
              "      <th></th>\n",
              "      <th>loan_amnt</th>\n",
              "      <th>int_rate</th>\n",
              "      <th>installment</th>\n",
              "      <th>annual_inc</th>\n",
              "      <th>dti</th>\n",
              "      <th>delinq_2yrs</th>\n",
              "      <th>inq_last_6mths</th>\n",
              "      <th>open_acc</th>\n",
              "      <th>pub_rec</th>\n",
              "      <th>revol_bal</th>\n",
              "      <th>...</th>\n",
              "      <th>issue_d_Mar-2019</th>\n",
              "      <th>pymnt_plan_n</th>\n",
              "      <th>initial_list_status_f</th>\n",
              "      <th>initial_list_status_w</th>\n",
              "      <th>next_pymnt_d_Apr-2019</th>\n",
              "      <th>next_pymnt_d_May-2019</th>\n",
              "      <th>application_type_Individual</th>\n",
              "      <th>application_type_Joint App</th>\n",
              "      <th>hardship_flag_N</th>\n",
              "      <th>debt_settlement_flag_N</th>\n",
              "    </tr>\n",
              "  </thead>\n",
              "  <tbody>\n",
              "    <tr>\n",
              "      <th>count</th>\n",
              "      <td>68817.000000</td>\n",
              "      <td>68817.000000</td>\n",
              "      <td>68817.000000</td>\n",
              "      <td>6.881700e+04</td>\n",
              "      <td>68817.000000</td>\n",
              "      <td>68817.000000</td>\n",
              "      <td>68817.000000</td>\n",
              "      <td>68817.000000</td>\n",
              "      <td>68817.000000</td>\n",
              "      <td>68817.000000</td>\n",
              "      <td>...</td>\n",
              "      <td>68817.000000</td>\n",
              "      <td>68817.0</td>\n",
              "      <td>68817.000000</td>\n",
              "      <td>68817.000000</td>\n",
              "      <td>68817.000000</td>\n",
              "      <td>68817.000000</td>\n",
              "      <td>68817.000000</td>\n",
              "      <td>68817.000000</td>\n",
              "      <td>68817.0</td>\n",
              "      <td>68817.0</td>\n",
              "    </tr>\n",
              "    <tr>\n",
              "      <th>mean</th>\n",
              "      <td>16677.594562</td>\n",
              "      <td>0.127718</td>\n",
              "      <td>480.652863</td>\n",
              "      <td>8.821371e+04</td>\n",
              "      <td>21.778153</td>\n",
              "      <td>0.217766</td>\n",
              "      <td>0.497697</td>\n",
              "      <td>12.587340</td>\n",
              "      <td>0.126030</td>\n",
              "      <td>17604.142828</td>\n",
              "      <td>...</td>\n",
              "      <td>0.177238</td>\n",
              "      <td>1.0</td>\n",
              "      <td>0.123879</td>\n",
              "      <td>0.876121</td>\n",
              "      <td>0.383161</td>\n",
              "      <td>0.616839</td>\n",
              "      <td>0.860340</td>\n",
              "      <td>0.139660</td>\n",
              "      <td>1.0</td>\n",
              "      <td>1.0</td>\n",
              "    </tr>\n",
              "    <tr>\n",
              "      <th>std</th>\n",
              "      <td>10277.348590</td>\n",
              "      <td>0.048130</td>\n",
              "      <td>288.062432</td>\n",
              "      <td>1.155800e+05</td>\n",
              "      <td>20.199244</td>\n",
              "      <td>0.718367</td>\n",
              "      <td>0.758122</td>\n",
              "      <td>6.022869</td>\n",
              "      <td>0.336797</td>\n",
              "      <td>21835.880400</td>\n",
              "      <td>...</td>\n",
              "      <td>0.381873</td>\n",
              "      <td>0.0</td>\n",
              "      <td>0.329446</td>\n",
              "      <td>0.329446</td>\n",
              "      <td>0.486161</td>\n",
              "      <td>0.486161</td>\n",
              "      <td>0.346637</td>\n",
              "      <td>0.346637</td>\n",
              "      <td>0.0</td>\n",
              "      <td>0.0</td>\n",
              "    </tr>\n",
              "    <tr>\n",
              "      <th>min</th>\n",
              "      <td>1000.000000</td>\n",
              "      <td>0.060000</td>\n",
              "      <td>30.890000</td>\n",
              "      <td>4.000000e+01</td>\n",
              "      <td>0.000000</td>\n",
              "      <td>0.000000</td>\n",
              "      <td>0.000000</td>\n",
              "      <td>2.000000</td>\n",
              "      <td>0.000000</td>\n",
              "      <td>0.000000</td>\n",
              "      <td>...</td>\n",
              "      <td>0.000000</td>\n",
              "      <td>1.0</td>\n",
              "      <td>0.000000</td>\n",
              "      <td>0.000000</td>\n",
              "      <td>0.000000</td>\n",
              "      <td>0.000000</td>\n",
              "      <td>0.000000</td>\n",
              "      <td>0.000000</td>\n",
              "      <td>1.0</td>\n",
              "      <td>1.0</td>\n",
              "    </tr>\n",
              "    <tr>\n",
              "      <th>25%</th>\n",
              "      <td>9000.000000</td>\n",
              "      <td>0.088100</td>\n",
              "      <td>265.730000</td>\n",
              "      <td>5.000000e+04</td>\n",
              "      <td>13.890000</td>\n",
              "      <td>0.000000</td>\n",
              "      <td>0.000000</td>\n",
              "      <td>8.000000</td>\n",
              "      <td>0.000000</td>\n",
              "      <td>6293.000000</td>\n",
              "      <td>...</td>\n",
              "      <td>0.000000</td>\n",
              "      <td>1.0</td>\n",
              "      <td>0.000000</td>\n",
              "      <td>1.000000</td>\n",
              "      <td>0.000000</td>\n",
              "      <td>0.000000</td>\n",
              "      <td>1.000000</td>\n",
              "      <td>0.000000</td>\n",
              "      <td>1.0</td>\n",
              "      <td>1.0</td>\n",
              "    </tr>\n",
              "    <tr>\n",
              "      <th>50%</th>\n",
              "      <td>15000.000000</td>\n",
              "      <td>0.118000</td>\n",
              "      <td>404.560000</td>\n",
              "      <td>7.300000e+04</td>\n",
              "      <td>19.760000</td>\n",
              "      <td>0.000000</td>\n",
              "      <td>0.000000</td>\n",
              "      <td>11.000000</td>\n",
              "      <td>0.000000</td>\n",
              "      <td>12068.000000</td>\n",
              "      <td>...</td>\n",
              "      <td>0.000000</td>\n",
              "      <td>1.0</td>\n",
              "      <td>0.000000</td>\n",
              "      <td>1.000000</td>\n",
              "      <td>0.000000</td>\n",
              "      <td>1.000000</td>\n",
              "      <td>1.000000</td>\n",
              "      <td>0.000000</td>\n",
              "      <td>1.0</td>\n",
              "      <td>1.0</td>\n",
              "    </tr>\n",
              "    <tr>\n",
              "      <th>75%</th>\n",
              "      <td>24000.000000</td>\n",
              "      <td>0.155700</td>\n",
              "      <td>648.100000</td>\n",
              "      <td>1.040000e+05</td>\n",
              "      <td>26.660000</td>\n",
              "      <td>0.000000</td>\n",
              "      <td>1.000000</td>\n",
              "      <td>16.000000</td>\n",
              "      <td>0.000000</td>\n",
              "      <td>21735.000000</td>\n",
              "      <td>...</td>\n",
              "      <td>0.000000</td>\n",
              "      <td>1.0</td>\n",
              "      <td>0.000000</td>\n",
              "      <td>1.000000</td>\n",
              "      <td>1.000000</td>\n",
              "      <td>1.000000</td>\n",
              "      <td>1.000000</td>\n",
              "      <td>0.000000</td>\n",
              "      <td>1.0</td>\n",
              "      <td>1.0</td>\n",
              "    </tr>\n",
              "    <tr>\n",
              "      <th>max</th>\n",
              "      <td>40000.000000</td>\n",
              "      <td>0.308400</td>\n",
              "      <td>1676.230000</td>\n",
              "      <td>8.797500e+06</td>\n",
              "      <td>999.000000</td>\n",
              "      <td>18.000000</td>\n",
              "      <td>5.000000</td>\n",
              "      <td>72.000000</td>\n",
              "      <td>4.000000</td>\n",
              "      <td>587191.000000</td>\n",
              "      <td>...</td>\n",
              "      <td>1.000000</td>\n",
              "      <td>1.0</td>\n",
              "      <td>1.000000</td>\n",
              "      <td>1.000000</td>\n",
              "      <td>1.000000</td>\n",
              "      <td>1.000000</td>\n",
              "      <td>1.000000</td>\n",
              "      <td>1.000000</td>\n",
              "      <td>1.0</td>\n",
              "      <td>1.0</td>\n",
              "    </tr>\n",
              "  </tbody>\n",
              "</table>\n",
              "<p>8 rows × 95 columns</p>\n",
              "</div>\n",
              "      <button class=\"colab-df-convert\" onclick=\"convertToInteractive('df-c3d11b7e-2547-4784-bc98-242f80912eb5')\"\n",
              "              title=\"Convert this dataframe to an interactive table.\"\n",
              "              style=\"display:none;\">\n",
              "        \n",
              "  <svg xmlns=\"http://www.w3.org/2000/svg\" height=\"24px\"viewBox=\"0 0 24 24\"\n",
              "       width=\"24px\">\n",
              "    <path d=\"M0 0h24v24H0V0z\" fill=\"none\"/>\n",
              "    <path d=\"M18.56 5.44l.94 2.06.94-2.06 2.06-.94-2.06-.94-.94-2.06-.94 2.06-2.06.94zm-11 1L8.5 8.5l.94-2.06 2.06-.94-2.06-.94L8.5 2.5l-.94 2.06-2.06.94zm10 10l.94 2.06.94-2.06 2.06-.94-2.06-.94-.94-2.06-.94 2.06-2.06.94z\"/><path d=\"M17.41 7.96l-1.37-1.37c-.4-.4-.92-.59-1.43-.59-.52 0-1.04.2-1.43.59L10.3 9.45l-7.72 7.72c-.78.78-.78 2.05 0 2.83L4 21.41c.39.39.9.59 1.41.59.51 0 1.02-.2 1.41-.59l7.78-7.78 2.81-2.81c.8-.78.8-2.07 0-2.86zM5.41 20L4 18.59l7.72-7.72 1.47 1.35L5.41 20z\"/>\n",
              "  </svg>\n",
              "      </button>\n",
              "      \n",
              "  <style>\n",
              "    .colab-df-container {\n",
              "      display:flex;\n",
              "      flex-wrap:wrap;\n",
              "      gap: 12px;\n",
              "    }\n",
              "\n",
              "    .colab-df-convert {\n",
              "      background-color: #E8F0FE;\n",
              "      border: none;\n",
              "      border-radius: 50%;\n",
              "      cursor: pointer;\n",
              "      display: none;\n",
              "      fill: #1967D2;\n",
              "      height: 32px;\n",
              "      padding: 0 0 0 0;\n",
              "      width: 32px;\n",
              "    }\n",
              "\n",
              "    .colab-df-convert:hover {\n",
              "      background-color: #E2EBFA;\n",
              "      box-shadow: 0px 1px 2px rgba(60, 64, 67, 0.3), 0px 1px 3px 1px rgba(60, 64, 67, 0.15);\n",
              "      fill: #174EA6;\n",
              "    }\n",
              "\n",
              "    [theme=dark] .colab-df-convert {\n",
              "      background-color: #3B4455;\n",
              "      fill: #D2E3FC;\n",
              "    }\n",
              "\n",
              "    [theme=dark] .colab-df-convert:hover {\n",
              "      background-color: #434B5C;\n",
              "      box-shadow: 0px 1px 3px 1px rgba(0, 0, 0, 0.15);\n",
              "      filter: drop-shadow(0px 1px 2px rgba(0, 0, 0, 0.3));\n",
              "      fill: #FFFFFF;\n",
              "    }\n",
              "  </style>\n",
              "\n",
              "      <script>\n",
              "        const buttonEl =\n",
              "          document.querySelector('#df-c3d11b7e-2547-4784-bc98-242f80912eb5 button.colab-df-convert');\n",
              "        buttonEl.style.display =\n",
              "          google.colab.kernel.accessAllowed ? 'block' : 'none';\n",
              "\n",
              "        async function convertToInteractive(key) {\n",
              "          const element = document.querySelector('#df-c3d11b7e-2547-4784-bc98-242f80912eb5');\n",
              "          const dataTable =\n",
              "            await google.colab.kernel.invokeFunction('convertToInteractive',\n",
              "                                                     [key], {});\n",
              "          if (!dataTable) return;\n",
              "\n",
              "          const docLinkHtml = 'Like what you see? Visit the ' +\n",
              "            '<a target=\"_blank\" href=https://colab.research.google.com/notebooks/data_table.ipynb>data table notebook</a>'\n",
              "            + ' to learn more about interactive tables.';\n",
              "          element.innerHTML = '';\n",
              "          dataTable['output_type'] = 'display_data';\n",
              "          await google.colab.output.renderOutput(dataTable, element);\n",
              "          const docLink = document.createElement('div');\n",
              "          docLink.innerHTML = docLinkHtml;\n",
              "          element.appendChild(docLink);\n",
              "        }\n",
              "      </script>\n",
              "    </div>\n",
              "  </div>\n",
              "  "
            ]
          },
          "metadata": {},
          "execution_count": 7
        }
      ],
      "source": [
        "X.describe()"
      ]
    },
    {
      "cell_type": "code",
      "execution_count": 8,
      "metadata": {
        "colab": {
          "base_uri": "https://localhost:8080/"
        },
        "id": "IoWrq9gRYwzJ",
        "outputId": "e97da383-8816-4817-c9ca-cbebdd037495"
      },
      "outputs": [
        {
          "output_type": "execute_result",
          "data": {
            "text/plain": [
              "low_risk     68470\n",
              "high_risk      347\n",
              "Name: loan_status, dtype: int64"
            ]
          },
          "metadata": {},
          "execution_count": 8
        }
      ],
      "source": [
        "# Check the balance of our target values\n",
        "y['loan_status'].value_counts()"
      ]
    },
    {
      "cell_type": "code",
      "execution_count": 9,
      "metadata": {
        "colab": {
          "base_uri": "https://localhost:8080/"
        },
        "id": "Bk1beTZ0YwzJ",
        "outputId": "cadaa6be-78c8-47d0-e5a9-e38ec7aeb467"
      },
      "outputs": [
        {
          "output_type": "execute_result",
          "data": {
            "text/plain": [
              "(51612, 95)"
            ]
          },
          "metadata": {},
          "execution_count": 9
        }
      ],
      "source": [
        "from sklearn.model_selection import train_test_split\n",
        "X_train, X_test, y_train, y_test = train_test_split(X,y,random_state=1)\n",
        "X_train.shape"
      ]
    },
    {
      "cell_type": "markdown",
      "metadata": {
        "id": "-pOaZ-JEYwzK"
      },
      "source": [
        "# Ensemble Learners\n",
        "\n",
        "In this section, you will compare two ensemble algorithms to determine which algorithm results in the best performance. You will train a Balanced Random Forest Classifier and an Easy Ensemble AdaBoost classifier . For each algorithm, be sure to complete the folliowing steps:\n",
        "\n",
        "1. Train the model using the training data. \n",
        "2. Calculate the balanced accuracy score from sklearn.metrics.\n",
        "3. Print the confusion matrix from sklearn.metrics.\n",
        "4. Generate a classication report using the `imbalanced_classification_report` from imbalanced-learn.\n",
        "5. For the Balanced Random Forest Classifier onely, print the feature importance sorted in descending order (most important feature to least important) along with the feature score\n",
        "\n",
        "Note: Use a random state of 1 for each algorithm to ensure consistency between tests"
      ]
    },
    {
      "cell_type": "markdown",
      "metadata": {
        "id": "2fy3DTEcYwzK"
      },
      "source": [
        "### Balanced Random Forest Classifier"
      ]
    },
    {
      "cell_type": "code",
      "execution_count": 10,
      "metadata": {
        "colab": {
          "base_uri": "https://localhost:8080/"
        },
        "id": "QmyTFFHwYwzK",
        "outputId": "c781ff6e-b46d-4feb-a8b3-0e85d0da8e87"
      },
      "outputs": [
        {
          "output_type": "execute_result",
          "data": {
            "text/plain": [
              "BalancedRandomForestClassifier(random_state=1)"
            ]
          },
          "metadata": {},
          "execution_count": 10
        }
      ],
      "source": [
        "# Resample the training data with the BalancedRandomForestClassifier\n",
        "from imblearn.ensemble import BalancedRandomForestClassifier\n",
        "balanced = BalancedRandomForestClassifier(n_estimators = 100, random_state=1)\n",
        "balanced.fit(X_train, y_train)"
      ]
    },
    {
      "cell_type": "code",
      "execution_count": 11,
      "metadata": {
        "colab": {
          "base_uri": "https://localhost:8080/"
        },
        "id": "2qY27KsSYwzL",
        "outputId": "6b4f1dfc-3fda-4346-e6b5-59cc83919f78"
      },
      "outputs": [
        {
          "output_type": "execute_result",
          "data": {
            "text/plain": [
              "0.7885466545953005"
            ]
          },
          "metadata": {},
          "execution_count": 11
        }
      ],
      "source": [
        "# Calculated the balanced accuracy score\n",
        "y_pred = balanced.predict(X_test)\n",
        "balanced_accuracy_score(y_test, y_pred)"
      ]
    },
    {
      "cell_type": "code",
      "execution_count": 12,
      "metadata": {
        "colab": {
          "base_uri": "https://localhost:8080/"
        },
        "id": "r7b-qpC2YwzL",
        "outputId": "0b8a1c5b-26e0-4f88-b40e-93f3caf9c9e4"
      },
      "outputs": [
        {
          "output_type": "execute_result",
          "data": {
            "text/plain": [
              "array([[   71,    30],\n",
              "       [ 2153, 14951]])"
            ]
          },
          "metadata": {},
          "execution_count": 12
        }
      ],
      "source": [
        "# Display the confusion matrix\n",
        "confusion_matrix(y_test, y_pred)"
      ]
    },
    {
      "cell_type": "code",
      "execution_count": 13,
      "metadata": {
        "colab": {
          "base_uri": "https://localhost:8080/"
        },
        "id": "k7MHr0IqYwzM",
        "outputId": "1519db55-0f6a-4e73-f299-e71194864039"
      },
      "outputs": [
        {
          "output_type": "stream",
          "name": "stdout",
          "text": [
            "                   pre       rec       spe        f1       geo       iba       sup\n",
            "\n",
            "  high_risk       0.03      0.70      0.87      0.06      0.78      0.60       101\n",
            "   low_risk       1.00      0.87      0.70      0.93      0.78      0.62     17104\n",
            "\n",
            "avg / total       0.99      0.87      0.70      0.93      0.78      0.62     17205\n",
            "\n"
          ]
        }
      ],
      "source": [
        "# Print the imbalanced classification report\n",
        "print(classification_report_imbalanced(y_test, y_pred))"
      ]
    },
    {
      "cell_type": "code",
      "execution_count": 14,
      "metadata": {
        "colab": {
          "base_uri": "https://localhost:8080/"
        },
        "id": "liu4i3yjYwzM",
        "outputId": "675db6de-34ba-4117-a0e3-28f2f5573c94"
      },
      "outputs": [
        {
          "output_type": "execute_result",
          "data": {
            "text/plain": [
              "{'acc_now_delinq': 0.0,\n",
              " 'acc_open_past_24mths': 0.006714495620628373,\n",
              " 'all_util': 0.0130446065288952,\n",
              " 'annual_inc': 0.014832564501144122,\n",
              " 'application_type_Individual': 0.001901604006185586,\n",
              " 'application_type_Joint App': 0.0020912385738361574,\n",
              " 'avg_cur_bal': 0.01332289882475225,\n",
              " 'bc_open_to_buy': 0.013265926832893358,\n",
              " 'bc_util': 0.014613819728800227,\n",
              " 'chargeoff_within_12_mths': 0.0002730803587770788,\n",
              " 'collection_recovery_fee': 0.0,\n",
              " 'collections_12_mths_ex_med': 0.0007150315534652695,\n",
              " 'debt_settlement_flag_N': 0.0,\n",
              " 'delinq_2yrs': 0.003082852259926947,\n",
              " 'delinq_amnt': 0.0,\n",
              " 'dti': 0.01747062730041245,\n",
              " 'hardship_flag_N': 0.0,\n",
              " 'home_ownership_ANY': 0.0004955956183545533,\n",
              " 'home_ownership_MORTGAGE': 0.0014589723334940362,\n",
              " 'home_ownership_OWN': 0.002824523629114469,\n",
              " 'home_ownership_RENT': 0.0029133221443170495,\n",
              " 'il_util': 0.01311545089813887,\n",
              " 'initial_list_status_f': 0.0011005704165634263,\n",
              " 'initial_list_status_w': 0.0011520703643731528,\n",
              " 'inq_fi': 0.006240598451492287,\n",
              " 'inq_last_12m': 0.012773576514405109,\n",
              " 'inq_last_6mths': 0.006216409633238659,\n",
              " 'installment': 0.01980242888931366,\n",
              " 'int_rate': 0.02966959508700077,\n",
              " 'issue_d_Feb-2019': 0.005640206440873574,\n",
              " 'issue_d_Jan-2019': 0.021129125328012987,\n",
              " 'issue_d_Mar-2019': 0.015115240704562424,\n",
              " 'last_pymnt_amnt': 0.0500331813446525,\n",
              " 'loan_amnt': 0.010579906006851516,\n",
              " 'max_bal_bc': 0.014899352873994727,\n",
              " 'mo_sin_old_il_acct': 0.013921085423763812,\n",
              " 'mo_sin_old_rev_tl_op': 0.014859446582326507,\n",
              " 'mo_sin_rcnt_rev_tl_op': 0.009393346012674945,\n",
              " 'mo_sin_rcnt_tl': 0.010982948025240226,\n",
              " 'mort_acc': 0.0061708920490257954,\n",
              " 'mths_since_rcnt_il': 0.013534131593418711,\n",
              " 'mths_since_recent_bc': 0.010575363106694519,\n",
              " 'mths_since_recent_inq': 0.015220714904737209,\n",
              " 'next_pymnt_d_Apr-2019': 0.005106000423451099,\n",
              " 'next_pymnt_d_May-2019': 0.005036652777545191,\n",
              " 'num_accts_ever_120_pd': 0.0037571920083085985,\n",
              " 'num_actv_bc_tl': 0.006866662924995743,\n",
              " 'num_actv_rev_tl': 0.009632472481996241,\n",
              " 'num_bc_sats': 0.007570544824579072,\n",
              " 'num_bc_tl': 0.00872448189550355,\n",
              " 'num_il_tl': 0.009662050208879065,\n",
              " 'num_op_rev_tl': 0.008330966254402506,\n",
              " 'num_rev_accts': 0.010320067009550682,\n",
              " 'num_rev_tl_bal_gt_0': 0.007272665006598051,\n",
              " 'num_sats': 0.008628938824946404,\n",
              " 'num_tl_120dpd_2m': 0.0,\n",
              " 'num_tl_30dpd': 0.0,\n",
              " 'num_tl_90g_dpd_24m': 0.0009956935704327383,\n",
              " 'num_tl_op_past_12m': 0.007548811505974241,\n",
              " 'open_acc': 0.007382231721841728,\n",
              " 'open_acc_6m': 0.009753839399393215,\n",
              " 'open_act_il': 0.007489717491934961,\n",
              " 'open_il_12m': 0.004860024796675963,\n",
              " 'open_il_24m': 0.006561432872333855,\n",
              " 'open_rv_12m': 0.004018916067963884,\n",
              " 'open_rv_24m': 0.005634546230136711,\n",
              " 'out_prncp': 0.014881069023035237,\n",
              " 'out_prncp_inv': 0.016858293184471483,\n",
              " 'pct_tl_nvr_dlq': 0.013030046723135838,\n",
              " 'percent_bc_gt_75': 0.005131046989565006,\n",
              " 'policy_code': 0.0,\n",
              " 'pub_rec': 0.002015258269512615,\n",
              " 'pub_rec_bankruptcies': 0.0013727925120781853,\n",
              " 'pymnt_plan_n': 0.0,\n",
              " 'recoveries': 0.0,\n",
              " 'revol_bal': 0.014926655663448373,\n",
              " 'tax_liens': 0.0,\n",
              " 'tot_coll_amt': 0.004198582835532627,\n",
              " 'tot_cur_bal': 0.012855901280381887,\n",
              " 'tot_hi_cred_lim': 0.014487685026878092,\n",
              " 'total_acc': 0.010209212170253059,\n",
              " 'total_bal_ex_mort': 0.01641297102011915,\n",
              " 'total_bal_il': 0.011968994260747247,\n",
              " 'total_bc_limit': 0.01304530062898567,\n",
              " 'total_cu_tl': 0.006083218608279307,\n",
              " 'total_il_high_credit_limit': 0.01279908506759016,\n",
              " 'total_pymnt': 0.05883806887524815,\n",
              " 'total_pymnt_inv': 0.05625613759225244,\n",
              " 'total_rec_int': 0.05355513093134745,\n",
              " 'total_rec_late_fee': 0.006998827313196186,\n",
              " 'total_rec_prncp': 0.07876809003486353,\n",
              " 'total_rev_hi_lim': 0.013364759441576994,\n",
              " 'verification_status_Not Verified': 0.002204946377565813,\n",
              " 'verification_status_Source Verified': 0.0015046400907840708,\n",
              " 'verification_status_Verified': 0.0019325773153555006}"
            ]
          },
          "metadata": {},
          "execution_count": 14
        }
      ],
      "source": [
        "# List the features sorted in descending order by feature importance\n",
        "dict(sorted(zip(X.columns,balanced.feature_importances_), reverse=True,key=lambda record:record[1]))"
      ]
    },
    {
      "cell_type": "markdown",
      "metadata": {
        "id": "im9ZYni6YwzM"
      },
      "source": [
        "### Easy Ensemble AdaBoost Classifier"
      ]
    },
    {
      "cell_type": "code",
      "execution_count": null,
      "metadata": {
        "id": "LcQH2BY1YwzM"
      },
      "outputs": [],
      "source": [
        "# Train the EasyEnsembleClassifier\n",
        "from imblearn.ensemble import EasyEnsembleClassifier\n",
        "easy = EasyEnsembleClassifier(n_estimators = 100,\n",
        "                                     random_state=1)\n",
        "easy.fit(X_train, y_train)"
      ]
    },
    {
      "cell_type": "code",
      "execution_count": null,
      "metadata": {
        "id": "XKUn9JUwYwzN"
      },
      "outputs": [],
      "source": [
        "# Calculated the balanced accuracy score\n",
        "y_pred = easy.predict(X_test)\n",
        "balanced_accuracy_score(y_test, y_pred)"
      ]
    },
    {
      "cell_type": "code",
      "execution_count": null,
      "metadata": {
        "id": "Smp4GZDQYwzN",
        "outputId": "6982d404-49d5-431d-e25f-ac3492f076e2"
      },
      "outputs": [
        {
          "data": {
            "text/plain": [
              "array([[   93,     8],\n",
              "       [  983, 16121]])"
            ]
          },
          "execution_count": 17,
          "metadata": {},
          "output_type": "execute_result"
        }
      ],
      "source": [
        "# Display the confusion matrix\n",
        "confusion_matrix(y_test, y_pred)"
      ]
    },
    {
      "cell_type": "code",
      "execution_count": null,
      "metadata": {
        "id": "6C5pjBHoYwzN",
        "outputId": "f7bff520-0aad-4de9-a5b5-1e01c502f397"
      },
      "outputs": [
        {
          "name": "stdout",
          "output_type": "stream",
          "text": [
            "                   pre       rec       spe        f1       geo       iba       sup\n",
            "\n",
            "  high_risk       0.09      0.92      0.94      0.16      0.93      0.87       101\n",
            "   low_risk       1.00      0.94      0.92      0.97      0.93      0.87     17104\n",
            "\n",
            "avg / total       0.99      0.94      0.92      0.97      0.93      0.87     17205\n",
            "\n"
          ]
        }
      ],
      "source": [
        "# Print the imbalanced classification report\n",
        "print(classification_report_imbalanced(y_test, y_pred))"
      ]
    },
    {
      "cell_type": "code",
      "execution_count": null,
      "metadata": {
        "id": "HhnaaJlMYwzN"
      },
      "outputs": [],
      "source": [
        ""
      ]
    }
  ],
  "metadata": {
    "kernelspec": {
      "display_name": "mlenv",
      "language": "python",
      "name": "mlenv"
    },
    "language_info": {
      "codemirror_mode": {
        "name": "ipython",
        "version": 3
      },
      "file_extension": ".py",
      "mimetype": "text/x-python",
      "name": "python",
      "nbconvert_exporter": "python",
      "pygments_lexer": "ipython3",
      "version": "3.7.7"
    },
    "colab": {
      "name": "credit_risk_ensemble.ipynb",
      "provenance": [],
      "collapsed_sections": []
    }
  },
  "nbformat": 4,
  "nbformat_minor": 0
}